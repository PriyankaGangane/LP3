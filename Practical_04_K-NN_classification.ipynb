{
 "cells": [
  {
   "cell_type": "code",
   "execution_count": 2,
   "id": "c9d4b0e2",
   "metadata": {},
   "outputs": [],
   "source": [
    "import sympy as sy"
   ]
  },
  {
   "cell_type": "code",
   "execution_count": 3,
   "id": "ecbc478d",
   "metadata": {},
   "outputs": [],
   "source": [
    "x = sy.Symbol('x')"
   ]
  },
  {
   "cell_type": "code",
   "execution_count": 4,
   "id": "594ac4f3",
   "metadata": {},
   "outputs": [],
   "source": [
    "a = sy.diff((x+5)**2)"
   ]
  },
  {
   "cell_type": "code",
   "execution_count": 5,
   "id": "e7a8ba2a",
   "metadata": {},
   "outputs": [],
   "source": [
    "cur_x=2\n",
    "rate=0.01\n",
    "precision=0.000001\n",
    "previous_step_size=1\n",
    "max_iters=1000\n",
    "iters=0\n",
    "df=lambda x:2*(x+3)"
   ]
  },
  {
   "cell_type": "code",
   "execution_count": 6,
   "id": "6fdbccbd",
   "metadata": {},
   "outputs": [
    {
     "name": "stdout",
     "output_type": "stream",
     "text": [
      "Local Minima Occurs at: -2.999951128099859\n"
     ]
    }
   ],
   "source": [
    "while previous_step_size>precision and iters<max_iters:\n",
    "    prev_x=cur_x\n",
    "    cur_x-=rate * df(prev_x)\n",
    "    previous_step_size=abs(prev_x-cur_x)\n",
    "    iters+=1\n",
    "print(\"Local Minima Occurs at:\",cur_x)"
   ]
  },
  {
   "cell_type": "code",
   "execution_count": null,
   "id": "4323d4e8",
   "metadata": {},
   "outputs": [],
   "source": []
  },
  {
   "cell_type": "code",
   "execution_count": null,
   "id": "fe53deea",
   "metadata": {},
   "outputs": [],
   "source": []
  }
 ],
 "metadata": {
  "kernelspec": {
   "display_name": "Python 3 (ipykernel)",
   "language": "python",
   "name": "python3"
  },
  "language_info": {
   "codemirror_mode": {
    "name": "ipython",
    "version": 3
   },
   "file_extension": ".py",
   "mimetype": "text/x-python",
   "name": "python",
   "nbconvert_exporter": "python",
   "pygments_lexer": "ipython3",
   "version": "3.10.2"
  }
 },
 "nbformat": 4,
 "nbformat_minor": 5
}
